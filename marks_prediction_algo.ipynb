{
 "cells": [
  {
   "cell_type": "markdown",
   "id": "d686a6ae-0bc4-4e19-9e24-621b1a8e43fa",
   "metadata": {},
   "source": [
    "## Application | Business Case\n",
    "\n",
    "In this demonstration, **Supervised Machine Learning** is used to predict and analyze a student's marks. For this task, we begin our pursuit by approaching the problem using a technique called the \"simple linear regression model\". It is a statistical model commonly used to estimate the relationship between two quantitative variables; one dependent variable and one or more independent variables using a line. This algorithm is fast and efficient for a small and medium-sized database and is useful to quickly discover insights from labeled data.\n",
    "\n",
    "Our two quantitative variables are:\n",
    "1. the percentage of marks scored by each student on a particular subject.\n",
    "2. the number of hours studied by each student on a particular subject.\n",
    "The task is to predict the percentage of marks that a student is expected to score, based upon the number of hours they study. In order to implement the functions in this model, Python libraries will be used."
   ]
  },
  {
   "cell_type": "markdown",
   "id": "c58e9c87-309c-40d4-aede-9b4623ca6040",
   "metadata": {},
   "source": [
    "### Importing Libraries & Loading Data\n",
    "Below, we will import the libraries involved. Please note that Scikit-Learn will be imported later on."
   ]
  },
  {
   "cell_type": "code",
   "execution_count": 1,
   "id": "feef3613-acb7-4b9c-bee5-431e2561ff3c",
   "metadata": {},
   "outputs": [],
   "source": [
    "# Importing libraries.\n",
    "\n",
    "import pandas as pd\n",
    "import numpy as np  \n",
    "import matplotlib.pyplot as plt  \n",
    "%matplotlib inline"
   ]
  },
  {
   "cell_type": "markdown",
   "id": "d31e253b-a142-4cf6-a794-318f6f55b14e",
   "metadata": {},
   "source": [
    "The next step is to load the given data into the Python Interpreter to proceed with the training of the model. Pandas are used to load the CSV (comma-separated values) file and give a confirmation of sorts when the data is successfully loaded.\n",
    "\n",
    "Note: I had saved the file into my system, in the same directory as this very Interpreter."
   ]
  },
  {
   "cell_type": "code",
   "execution_count": 2,
   "id": "2b71ffb6-f675-4d3d-9f2e-2a7b330a4165",
   "metadata": {},
   "outputs": [
    {
     "name": "stdout",
     "output_type": "stream",
     "text": [
      "Data has been imported successfully into interpretor.\n"
     ]
    }
   ],
   "source": [
    "# Loading Data into Python Interpreter.\n",
    "\n",
    "data = pd.read_csv(\"student_scores.csv\")  \n",
    "print(\"Data has been imported successfully into interpretor.\" )  "
   ]
  },
  {
   "cell_type": "markdown",
   "id": "ddd23118-5517-4bf1-9a75-18e48fe0d42d",
   "metadata": {},
   "source": [
    "### Visualizing Raw Data & Gaining Insights\n",
    "Information regarding the dataset can be seen by using the info() function."
   ]
  },
  {
   "cell_type": "code",
   "execution_count": 3,
   "id": "e1d8a157-8a2c-49a9-92ca-0a4a48c48cd3",
   "metadata": {},
   "outputs": [
    {
     "name": "stdout",
     "output_type": "stream",
     "text": [
      "<class 'pandas.core.frame.DataFrame'>\n",
      "RangeIndex: 25 entries, 0 to 24\n",
      "Data columns (total 2 columns):\n",
      " #   Column  Non-Null Count  Dtype  \n",
      "---  ------  --------------  -----  \n",
      " 0   Hours   25 non-null     float64\n",
      " 1   Scores  25 non-null     float64\n",
      "dtypes: float64(2)\n",
      "memory usage: 528.0 bytes\n"
     ]
    }
   ],
   "source": [
    "data.info()"
   ]
  },
  {
   "cell_type": "markdown",
   "id": "f4d0702d-89ee-4575-82d2-287d84c87e9a",
   "metadata": {},
   "source": [
    "There are two columns, one named \"Hours\" and the other named \"Scores\". There are a total of 25 values in each column. Thus, it can be said that there are 25 elements in the data being fed to the machine learning model. The type of data (Dtype) in the former is float, while the type of data (Dtype) in the latter is an integer. For future purposes, both columns should have the same type of data."
   ]
  },
  {
   "cell_type": "code",
   "execution_count": 4,
   "id": "3c78ff4c-03d2-4fcc-8fd8-21d07bcefab0",
   "metadata": {},
   "outputs": [
    {
     "name": "stdout",
     "output_type": "stream",
     "text": [
      "<class 'pandas.core.frame.DataFrame'>\n",
      "RangeIndex: 25 entries, 0 to 24\n",
      "Data columns (total 2 columns):\n",
      " #   Column  Non-Null Count  Dtype  \n",
      "---  ------  --------------  -----  \n",
      " 0   Hours   25 non-null     float64\n",
      " 1   Scores  25 non-null     float64\n",
      "dtypes: float64(2)\n",
      "memory usage: 528.0 bytes\n"
     ]
    }
   ],
   "source": [
    "data[\"Scores\"] = data['Scores'].astype(float)\n",
    "data.info()"
   ]
  },
  {
   "cell_type": "markdown",
   "id": "0f799611-e3ca-4180-bcb9-51248aa7d235",
   "metadata": {},
   "source": [
    "Upon successful import and conversion of both columns' data types to be the same, the data can be previewed using the head() function."
   ]
  },
  {
   "cell_type": "code",
   "execution_count": 5,
   "id": "fbf3711b-b941-4185-94b6-cf0a707e9297",
   "metadata": {},
   "outputs": [
    {
     "name": "stdout",
     "output_type": "stream",
     "text": [
      "Given below is the data imported from the CSV file.\n"
     ]
    },
    {
     "data": {
      "text/html": [
       "<div>\n",
       "<style scoped>\n",
       "    .dataframe tbody tr th:only-of-type {\n",
       "        vertical-align: middle;\n",
       "    }\n",
       "\n",
       "    .dataframe tbody tr th {\n",
       "        vertical-align: top;\n",
       "    }\n",
       "\n",
       "    .dataframe thead th {\n",
       "        text-align: right;\n",
       "    }\n",
       "</style>\n",
       "<table border=\"1\" class=\"dataframe\">\n",
       "  <thead>\n",
       "    <tr style=\"text-align: right;\">\n",
       "      <th></th>\n",
       "      <th>Hours</th>\n",
       "      <th>Scores</th>\n",
       "    </tr>\n",
       "  </thead>\n",
       "  <tbody>\n",
       "    <tr>\n",
       "      <th>0</th>\n",
       "      <td>2.5</td>\n",
       "      <td>21.0</td>\n",
       "    </tr>\n",
       "    <tr>\n",
       "      <th>1</th>\n",
       "      <td>5.1</td>\n",
       "      <td>47.0</td>\n",
       "    </tr>\n",
       "    <tr>\n",
       "      <th>2</th>\n",
       "      <td>3.2</td>\n",
       "      <td>27.0</td>\n",
       "    </tr>\n",
       "    <tr>\n",
       "      <th>3</th>\n",
       "      <td>8.5</td>\n",
       "      <td>75.0</td>\n",
       "    </tr>\n",
       "    <tr>\n",
       "      <th>4</th>\n",
       "      <td>3.5</td>\n",
       "      <td>30.0</td>\n",
       "    </tr>\n",
       "  </tbody>\n",
       "</table>\n",
       "</div>"
      ],
      "text/plain": [
       "   Hours  Scores\n",
       "0    2.5    21.0\n",
       "1    5.1    47.0\n",
       "2    3.2    27.0\n",
       "3    8.5    75.0\n",
       "4    3.5    30.0"
      ]
     },
     "execution_count": 5,
     "metadata": {},
     "output_type": "execute_result"
    }
   ],
   "source": [
    "# Preview Data.\n",
    "\n",
    "print(\"Given below is the data imported from the CSV file.\")\n",
    "data.head()"
   ]
  },
  {
   "cell_type": "markdown",
   "id": "6577e2e2-9945-4c3b-a0e1-748e3521b4b6",
   "metadata": {},
   "source": [
    "Notice how the head() function only previews the top five elements by default. This can be customized by simply adding the number of elements that are required to be seen between the parenthesis."
   ]
  },
  {
   "cell_type": "code",
   "execution_count": 6,
   "id": "4db0d739-db26-40dc-967b-2554b1e41cad",
   "metadata": {},
   "outputs": [
    {
     "data": {
      "text/html": [
       "<div>\n",
       "<style scoped>\n",
       "    .dataframe tbody tr th:only-of-type {\n",
       "        vertical-align: middle;\n",
       "    }\n",
       "\n",
       "    .dataframe tbody tr th {\n",
       "        vertical-align: top;\n",
       "    }\n",
       "\n",
       "    .dataframe thead th {\n",
       "        text-align: right;\n",
       "    }\n",
       "</style>\n",
       "<table border=\"1\" class=\"dataframe\">\n",
       "  <thead>\n",
       "    <tr style=\"text-align: right;\">\n",
       "      <th></th>\n",
       "      <th>Hours</th>\n",
       "      <th>Scores</th>\n",
       "    </tr>\n",
       "  </thead>\n",
       "  <tbody>\n",
       "    <tr>\n",
       "      <th>0</th>\n",
       "      <td>2.5</td>\n",
       "      <td>21.0</td>\n",
       "    </tr>\n",
       "    <tr>\n",
       "      <th>1</th>\n",
       "      <td>5.1</td>\n",
       "      <td>47.0</td>\n",
       "    </tr>\n",
       "    <tr>\n",
       "      <th>2</th>\n",
       "      <td>3.2</td>\n",
       "      <td>27.0</td>\n",
       "    </tr>\n",
       "    <tr>\n",
       "      <th>3</th>\n",
       "      <td>8.5</td>\n",
       "      <td>75.0</td>\n",
       "    </tr>\n",
       "    <tr>\n",
       "      <th>4</th>\n",
       "      <td>3.5</td>\n",
       "      <td>30.0</td>\n",
       "    </tr>\n",
       "    <tr>\n",
       "      <th>5</th>\n",
       "      <td>1.5</td>\n",
       "      <td>20.0</td>\n",
       "    </tr>\n",
       "    <tr>\n",
       "      <th>6</th>\n",
       "      <td>9.2</td>\n",
       "      <td>88.0</td>\n",
       "    </tr>\n",
       "    <tr>\n",
       "      <th>7</th>\n",
       "      <td>5.5</td>\n",
       "      <td>60.0</td>\n",
       "    </tr>\n",
       "    <tr>\n",
       "      <th>8</th>\n",
       "      <td>8.3</td>\n",
       "      <td>81.0</td>\n",
       "    </tr>\n",
       "    <tr>\n",
       "      <th>9</th>\n",
       "      <td>2.7</td>\n",
       "      <td>25.0</td>\n",
       "    </tr>\n",
       "  </tbody>\n",
       "</table>\n",
       "</div>"
      ],
      "text/plain": [
       "   Hours  Scores\n",
       "0    2.5    21.0\n",
       "1    5.1    47.0\n",
       "2    3.2    27.0\n",
       "3    8.5    75.0\n",
       "4    3.5    30.0\n",
       "5    1.5    20.0\n",
       "6    9.2    88.0\n",
       "7    5.5    60.0\n",
       "8    8.3    81.0\n",
       "9    2.7    25.0"
      ]
     },
     "execution_count": 6,
     "metadata": {},
     "output_type": "execute_result"
    }
   ],
   "source": [
    "data.head(10)"
   ]
  },
  {
   "cell_type": "markdown",
   "id": "da6a788e-b95a-43b2-bcfe-ec1e613b319b",
   "metadata": {},
   "source": [
    "Being a Data Scientist requires having a couple of functional skills, such as having a good sense of numbers. One should be able to analyze and translate what the numbers are saying. This requires a firm hold in statistics. Thankfully, the describe() function provides a set of important values for further statistical analysis. "
   ]
  },
  {
   "cell_type": "code",
   "execution_count": 7,
   "id": "15e1c423-7ce4-4994-accc-30064eb32706",
   "metadata": {},
   "outputs": [
    {
     "data": {
      "text/html": [
       "<div>\n",
       "<style scoped>\n",
       "    .dataframe tbody tr th:only-of-type {\n",
       "        vertical-align: middle;\n",
       "    }\n",
       "\n",
       "    .dataframe tbody tr th {\n",
       "        vertical-align: top;\n",
       "    }\n",
       "\n",
       "    .dataframe thead th {\n",
       "        text-align: right;\n",
       "    }\n",
       "</style>\n",
       "<table border=\"1\" class=\"dataframe\">\n",
       "  <thead>\n",
       "    <tr style=\"text-align: right;\">\n",
       "      <th></th>\n",
       "      <th>Hours</th>\n",
       "      <th>Scores</th>\n",
       "    </tr>\n",
       "  </thead>\n",
       "  <tbody>\n",
       "    <tr>\n",
       "      <th>count</th>\n",
       "      <td>25.000000</td>\n",
       "      <td>25.000000</td>\n",
       "    </tr>\n",
       "    <tr>\n",
       "      <th>mean</th>\n",
       "      <td>5.012000</td>\n",
       "      <td>51.480000</td>\n",
       "    </tr>\n",
       "    <tr>\n",
       "      <th>std</th>\n",
       "      <td>2.525094</td>\n",
       "      <td>25.286887</td>\n",
       "    </tr>\n",
       "    <tr>\n",
       "      <th>min</th>\n",
       "      <td>1.100000</td>\n",
       "      <td>17.000000</td>\n",
       "    </tr>\n",
       "    <tr>\n",
       "      <th>25%</th>\n",
       "      <td>2.700000</td>\n",
       "      <td>30.000000</td>\n",
       "    </tr>\n",
       "    <tr>\n",
       "      <th>50%</th>\n",
       "      <td>4.800000</td>\n",
       "      <td>47.000000</td>\n",
       "    </tr>\n",
       "    <tr>\n",
       "      <th>75%</th>\n",
       "      <td>7.400000</td>\n",
       "      <td>75.000000</td>\n",
       "    </tr>\n",
       "    <tr>\n",
       "      <th>max</th>\n",
       "      <td>9.200000</td>\n",
       "      <td>95.000000</td>\n",
       "    </tr>\n",
       "  </tbody>\n",
       "</table>\n",
       "</div>"
      ],
      "text/plain": [
       "           Hours     Scores\n",
       "count  25.000000  25.000000\n",
       "mean    5.012000  51.480000\n",
       "std     2.525094  25.286887\n",
       "min     1.100000  17.000000\n",
       "25%     2.700000  30.000000\n",
       "50%     4.800000  47.000000\n",
       "75%     7.400000  75.000000\n",
       "max     9.200000  95.000000"
      ]
     },
     "execution_count": 7,
     "metadata": {},
     "output_type": "execute_result"
    }
   ],
   "source": [
    "data.describe()"
   ]
  },
  {
   "cell_type": "markdown",
   "id": "80d695b5-b058-4cb3-b04b-4ebb511fc567",
   "metadata": {},
   "source": [
    "### Plotting the Data\n",
    "The next phase is to enter the distribution scores and plot them according to the requirement. The data points are plotted on a 2-D graph to visualize the dataset and see if any relationship between the data can be identified. The plot is created using the following script:"
   ]
  },
  {
   "cell_type": "code",
   "execution_count": 8,
   "id": "de3fb53f-1d37-4bfc-baf7-6d003dee775b",
   "metadata": {},
   "outputs": [
    {
     "data": {
      "image/png": "[encoded data removed]",
      "text/plain": [
       "<Figure size 432x288 with 1 Axes>"
      ]
     },
     "metadata": {},
     "output_type": "display_data"
    }
   ],
   "source": [
    "# Plotting the distribution of scores\n",
    "\n",
    "plt.rcParams.update({\n",
    "    \"lines.color\": \"gray\",\n",
    "    \"patch.edgecolor\": \"gray\",\n",
    "    \"text.color\": \"gray\",\n",
    "    \"axes.facecolor\": \"black\",\n",
    "    \"axes.edgecolor\": \"gray\",\n",
    "    \"axes.labelcolor\": \"gray\",\n",
    "    \"xtick.color\": \"gray\",\n",
    "    \"ytick.color\": \"gray\",\n",
    "    \"grid.color\": \"gray\",\n",
    "    \"figure.facecolor\": \"black\",\n",
    "    \"figure.edgecolor\": \"gray\",\n",
    "    \"savefig.facecolor\": \"gray\",\n",
    "    \"savefig.edgecolor\": \"black\"})\n",
    "\n",
    "data.plot(x='Hours', y='Scores', style='o')  \n",
    "plt.title('Hours vs Percentage')  \n",
    "plt.xlabel('Hours Studied')  \n",
    "plt.ylabel('Percentage Score')  \n",
    "plt.show()"
   ]
  },
  {
   "cell_type": "markdown",
   "id": "004d2b21-58ab-4d21-bd22-386d07e9d431",
   "metadata": {},
   "source": [
    "From the graph above, it is evident that there is a positive linear relationship between the two variables, i.e. number of hours studied and the percentage of scores are directly proportional."
   ]
  },
  {
   "cell_type": "markdown",
   "id": "c8e12ca6-94af-4a5d-9e75-77bf609387f2",
   "metadata": {},
   "source": [
    "### Prepare Data for Machine Learning Algorithm\n",
    "A deluge of data is present in a host of different formats, structures, and sources. A crucial part of a Data Scientist's job is to prepare this data by cleaning, organizing, and optimizing for use by end-users. End-users include business stakeholders, analysts, and programmers. The \"prepared\" data is then used to interpret the results and relay information for the management to take better-informed decisions.    "
   ]
  },
  {
   "cell_type": "code",
   "execution_count": 9,
   "id": "fc3dde83-b04a-4a0b-ace2-5241d176a815",
   "metadata": {},
   "outputs": [
    {
     "data": {
      "text/plain": [
       "Hours     0\n",
       "Scores    0\n",
       "dtype: int64"
      ]
     },
     "execution_count": 9,
     "metadata": {},
     "output_type": "execute_result"
    }
   ],
   "source": [
    "# Data Cleaning.  \n",
    "data.isnull().sum()"
   ]
  },
  {
   "cell_type": "code",
   "execution_count": 10,
   "id": "3cafac22-d8cf-41a8-8484-c0fd711da597",
   "metadata": {},
   "outputs": [
    {
     "name": "stdout",
     "output_type": "stream",
     "text": [
      "<class 'pandas.core.frame.DataFrame'>\n",
      "RangeIndex: 25 entries, 0 to 24\n",
      "Data columns (total 2 columns):\n",
      " #   Column  Non-Null Count  Dtype  \n",
      "---  ------  --------------  -----  \n",
      " 0   Hours   25 non-null     float64\n",
      " 1   Scores  25 non-null     float64\n",
      "dtypes: float64(2)\n",
      "memory usage: 528.0 bytes\n"
     ]
    }
   ],
   "source": [
    "data.info()"
   ]
  },
  {
   "cell_type": "code",
   "execution_count": 11,
   "id": "735fd99c-1fb7-4672-9e3d-89a66e1887a7",
   "metadata": {},
   "outputs": [
    {
     "name": "stdout",
     "output_type": "stream",
     "text": [
      "Just to be sure..\n"
     ]
    },
    {
     "data": {
      "text/html": [
       "<div>\n",
       "<style scoped>\n",
       "    .dataframe tbody tr th:only-of-type {\n",
       "        vertical-align: middle;\n",
       "    }\n",
       "\n",
       "    .dataframe tbody tr th {\n",
       "        vertical-align: top;\n",
       "    }\n",
       "\n",
       "    .dataframe thead th {\n",
       "        text-align: right;\n",
       "    }\n",
       "</style>\n",
       "<table border=\"1\" class=\"dataframe\">\n",
       "  <thead>\n",
       "    <tr style=\"text-align: right;\">\n",
       "      <th></th>\n",
       "      <th>Hours</th>\n",
       "      <th>Scores</th>\n",
       "    </tr>\n",
       "  </thead>\n",
       "  <tbody>\n",
       "    <tr>\n",
       "      <th>0</th>\n",
       "      <td>2.5</td>\n",
       "      <td>21.0</td>\n",
       "    </tr>\n",
       "    <tr>\n",
       "      <th>1</th>\n",
       "      <td>5.1</td>\n",
       "      <td>47.0</td>\n",
       "    </tr>\n",
       "    <tr>\n",
       "      <th>2</th>\n",
       "      <td>3.2</td>\n",
       "      <td>27.0</td>\n",
       "    </tr>\n",
       "    <tr>\n",
       "      <th>3</th>\n",
       "      <td>8.5</td>\n",
       "      <td>75.0</td>\n",
       "    </tr>\n",
       "    <tr>\n",
       "      <th>4</th>\n",
       "      <td>3.5</td>\n",
       "      <td>30.0</td>\n",
       "    </tr>\n",
       "  </tbody>\n",
       "</table>\n",
       "</div>"
      ],
      "text/plain": [
       "   Hours  Scores\n",
       "0    2.5    21.0\n",
       "1    5.1    47.0\n",
       "2    3.2    27.0\n",
       "3    8.5    75.0\n",
       "4    3.5    30.0"
      ]
     },
     "execution_count": 11,
     "metadata": {},
     "output_type": "execute_result"
    }
   ],
   "source": [
    "print(\"Just to be sure..\")\n",
    "data.head()"
   ]
  },
  {
   "cell_type": "markdown",
   "id": "a8d2fb27-ec32-4c24-929f-a1451932b302",
   "metadata": {},
   "source": [
    "The next step is to divide the data into \"attributes\" (inputs) and \"labels\" (outputs)."
   ]
  },
  {
   "cell_type": "code",
   "execution_count": 12,
   "id": "a5649709-92da-4e7d-a13a-b1c4e406cb47",
   "metadata": {},
   "outputs": [],
   "source": [
    "# Divide the Data into Attributes & Labels\n",
    "\n",
    "X = data.iloc[:, :-1].values    \n",
    "Y = data.iloc[:, 1].values"
   ]
  },
  {
   "cell_type": "markdown",
   "id": "68580c45-eada-45a8-9d15-419f061724b7",
   "metadata": {},
   "source": [
    "Now that our attributes and labels are in place, the next step is to split this data into training and test sets. This is done by using Scikit-Learn's built-in train_test_split() method:"
   ]
  },
  {
   "cell_type": "code",
   "execution_count": 13,
   "id": "5bed7450-8072-4d83-8bb8-281527c61a33",
   "metadata": {},
   "outputs": [],
   "source": [
    "# Split Data into Training & Test Sets.\n",
    "\n",
    "from sklearn.model_selection import train_test_split\n",
    "X_Train, X_Test, Y_Train, Y_Test = train_test_split(X, Y, test_size = 0.2, random_state = 0)"
   ]
  },
  {
   "cell_type": "markdown",
   "id": "800bc6da-21c3-44e7-af6e-f2f09d32a1cb",
   "metadata": {},
   "source": [
    "### Training the Machine Learning Algorithm\n",
    "Upon splitting the data into training and testing sets, it is finally time to train the algorithm. As mentioned above, a simple linear regression model will be used."
   ]
  },
  {
   "cell_type": "code",
   "execution_count": 14,
   "id": "4a400c3d-d819-44ce-b203-009db51d8f4b",
   "metadata": {},
   "outputs": [
    {
     "name": "stdout",
     "output_type": "stream",
     "text": [
      "Algorithm's training has been complete.\n"
     ]
    }
   ],
   "source": [
    "# Train the Algorithm.\n",
    "\n",
    "from sklearn.linear_model import LinearRegression  \n",
    "regressor = LinearRegression()  \n",
    "regressor.fit(X_Train, Y_Train) \n",
    "\n",
    "print(\"Algorithm's training has been complete.\")"
   ]
  },
  {
   "cell_type": "code",
   "execution_count": 15,
   "id": "9a6cd0b4-4401-4a66-b514-f7cbd88dc54f",
   "metadata": {},
   "outputs": [
    {
     "data": {
      "image/png": "[encoded data removed]",
      "text/plain": [
       "<Figure size 432x288 with 1 Axes>"
      ]
     },
     "metadata": {},
     "output_type": "display_data"
    }
   ],
   "source": [
    "# Plotting the regression line\n",
    "line = regressor.coef_*X+regressor.intercept_\n",
    "\n",
    "# Plotting for the test data\n",
    "plt.scatter(X, Y)\n",
    "plt.plot(X, line);\n",
    "plt.show()"
   ]
  },
  {
   "cell_type": "markdown",
   "id": "e08eacd4-0be7-4f09-bb1f-78313908e03b",
   "metadata": {},
   "source": [
    "### Making Predictions\n",
    "Now that our algorithm has been trained, it is time to make predictions."
   ]
  },
  {
   "cell_type": "code",
   "execution_count": 16,
   "id": "1922c076-e03b-4bc6-828a-f5654221ced8",
   "metadata": {},
   "outputs": [
    {
     "name": "stdout",
     "output_type": "stream",
     "text": [
      "[[1.5]\n",
      " [3.2]\n",
      " [7.4]\n",
      " [2.5]\n",
      " [5.9]]\n",
      "[[1.5]\n",
      " [3.2]\n",
      " [7.4]\n",
      " [2.5]\n",
      " [5.9]]\n"
     ]
    }
   ],
   "source": [
    "# Predict Scores for the Model.\n",
    "\n",
    "print(X_Test) # Testing data - In Hours\n",
    "Y_Pred = regressor.predict(X_Test)\n",
    "\n",
    "print(X_Test)   \n",
    "Y_Pred = regressor.predict(X_Test)  "
   ]
  },
  {
   "cell_type": "code",
   "execution_count": 17,
   "id": "cda55a05-818d-4d65-9ca9-2a8214806f07",
   "metadata": {},
   "outputs": [
    {
     "data": {
      "text/html": [
       "<div>\n",
       "<style scoped>\n",
       "    .dataframe tbody tr th:only-of-type {\n",
       "        vertical-align: middle;\n",
       "    }\n",
       "\n",
       "    .dataframe tbody tr th {\n",
       "        vertical-align: top;\n",
       "    }\n",
       "\n",
       "    .dataframe thead th {\n",
       "        text-align: right;\n",
       "    }\n",
       "</style>\n",
       "<table border=\"1\" class=\"dataframe\">\n",
       "  <thead>\n",
       "    <tr style=\"text-align: right;\">\n",
       "      <th></th>\n",
       "      <th>Actual Scores</th>\n",
       "      <th>Predicted Scores</th>\n",
       "    </tr>\n",
       "  </thead>\n",
       "  <tbody>\n",
       "    <tr>\n",
       "      <th>0</th>\n",
       "      <td>20.0</td>\n",
       "      <td>16.884145</td>\n",
       "    </tr>\n",
       "    <tr>\n",
       "      <th>1</th>\n",
       "      <td>27.0</td>\n",
       "      <td>33.732261</td>\n",
       "    </tr>\n",
       "    <tr>\n",
       "      <th>2</th>\n",
       "      <td>69.0</td>\n",
       "      <td>75.357018</td>\n",
       "    </tr>\n",
       "    <tr>\n",
       "      <th>3</th>\n",
       "      <td>30.0</td>\n",
       "      <td>26.794801</td>\n",
       "    </tr>\n",
       "    <tr>\n",
       "      <th>4</th>\n",
       "      <td>62.0</td>\n",
       "      <td>60.491033</td>\n",
       "    </tr>\n",
       "  </tbody>\n",
       "</table>\n",
       "</div>"
      ],
      "text/plain": [
       "   Actual Scores  Predicted Scores\n",
       "0           20.0         16.884145\n",
       "1           27.0         33.732261\n",
       "2           69.0         75.357018\n",
       "3           30.0         26.794801\n",
       "4           62.0         60.491033"
      ]
     },
     "execution_count": 17,
     "metadata": {},
     "output_type": "execute_result"
    }
   ],
   "source": [
    "# Compare Actual Data vs Predicted Data\n",
    "\n",
    "data = pd.DataFrame({\"Actual Scores\": Y_Test, \"Predicted Scores\": Y_Pred})\n",
    "data"
   ]
  },
  {
   "cell_type": "code",
   "execution_count": 18,
   "id": "0a939850-1413-4340-a2d4-58bd650bd827",
   "metadata": {},
   "outputs": [
    {
     "data": {
      "text/html": [
       "<div>\n",
       "<style scoped>\n",
       "    .dataframe tbody tr th:only-of-type {\n",
       "        vertical-align: middle;\n",
       "    }\n",
       "\n",
       "    .dataframe tbody tr th {\n",
       "        vertical-align: top;\n",
       "    }\n",
       "\n",
       "    .dataframe thead th {\n",
       "        text-align: right;\n",
       "    }\n",
       "</style>\n",
       "<table border=\"1\" class=\"dataframe\">\n",
       "  <thead>\n",
       "    <tr style=\"text-align: right;\">\n",
       "      <th></th>\n",
       "      <th>Hours</th>\n",
       "      <th>Actual Scores</th>\n",
       "      <th>Predicted Scores</th>\n",
       "    </tr>\n",
       "  </thead>\n",
       "  <tbody>\n",
       "    <tr>\n",
       "      <th>0</th>\n",
       "      <td>1.5</td>\n",
       "      <td>20.0</td>\n",
       "      <td>16.884145</td>\n",
       "    </tr>\n",
       "    <tr>\n",
       "      <th>1</th>\n",
       "      <td>3.2</td>\n",
       "      <td>27.0</td>\n",
       "      <td>33.732261</td>\n",
       "    </tr>\n",
       "    <tr>\n",
       "      <th>2</th>\n",
       "      <td>7.4</td>\n",
       "      <td>69.0</td>\n",
       "      <td>75.357018</td>\n",
       "    </tr>\n",
       "    <tr>\n",
       "      <th>3</th>\n",
       "      <td>2.5</td>\n",
       "      <td>30.0</td>\n",
       "      <td>26.794801</td>\n",
       "    </tr>\n",
       "    <tr>\n",
       "      <th>4</th>\n",
       "      <td>5.9</td>\n",
       "      <td>62.0</td>\n",
       "      <td>60.491033</td>\n",
       "    </tr>\n",
       "  </tbody>\n",
       "</table>\n",
       "</div>"
      ],
      "text/plain": [
       "   Hours  Actual Scores  Predicted Scores\n",
       "0    1.5           20.0         16.884145\n",
       "1    3.2           27.0         33.732261\n",
       "2    7.4           69.0         75.357018\n",
       "3    2.5           30.0         26.794801\n",
       "4    5.9           62.0         60.491033"
      ]
     },
     "execution_count": 18,
     "metadata": {},
     "output_type": "execute_result"
    }
   ],
   "source": [
    "pd.DataFrame(np.c_[X_Test,Y_Test,Y_Pred], columns=[\"Hours\",\"Actual Scores\",\"Predicted Scores\"])"
   ]
  },
  {
   "cell_type": "markdown",
   "id": "8a797b45-4b90-40ba-8e51-7aba079cf9fb",
   "metadata": {},
   "source": [
    "### Testing with Custom Data"
   ]
  },
  {
   "cell_type": "code",
   "execution_count": 19,
   "id": "d361c0e1-f34b-4fea-817b-51d8a5c8f2ae",
   "metadata": {},
   "outputs": [
    {
     "name": "stdout",
     "output_type": "stream",
     "text": [
      "Number of Hours = [[9.25]]\n",
      "Predicted Score = 93.69173248737539\n"
     ]
    }
   ],
   "source": [
    "# Test with Custom Data.\n",
    "\n",
    "hours = [[9.25]]\n",
    "own_pred = regressor.predict(hours)\n",
    "print(\"Number of Hours = {}\".format(hours))\n",
    "print(\"Predicted Score = {}\".format(own_pred[0]))"
   ]
  },
  {
   "cell_type": "markdown",
   "id": "bbad7d90-470c-498f-bb89-c52a34943747",
   "metadata": {},
   "source": [
    "### Evalating the Machine Learning Algorithm\n",
    "The final step is to evaluate the performance of the algorithm. This step is particularly important to compare how well different algorithms perform on a particular dataset. In order to avoid any confusion, the mean square error will be taken into account. However, there are many other metrics that can be used."
   ]
  },
  {
   "cell_type": "code",
   "execution_count": 20,
   "id": "d4632765-b612-47c6-ad6c-2cab43999022",
   "metadata": {},
   "outputs": [
    {
     "name": "stdout",
     "output_type": "stream",
     "text": [
      "Mean Absolute Error: 4.183859899002982\n"
     ]
    }
   ],
   "source": [
    "# Evaluate Performance of Algorithm.\n",
    "\n",
    "from sklearn import metrics  \n",
    "print('Mean Absolute Error:', \n",
    "      metrics.mean_absolute_error(Y_Test, Y_Pred)) "
   ]
  }
 ],
 "metadata": {
  "kernelspec": {
   "display_name": "Python 3",
   "language": "python",
   "name": "python3"
  },
  "language_info": {
   "codemirror_mode": {
    "name": "ipython",
    "version": 3
   },
   "file_extension": ".py",
   "mimetype": "text/x-python",
   "name": "python",
   "nbconvert_exporter": "python",
   "pygments_lexer": "ipython3",
   "version": "3.8.8"
  }
 },
 "nbformat": 4,
 "nbformat_minor": 5
}
